{
 "cells": [
  {
   "cell_type": "code",
   "execution_count": 32,
   "metadata": {
    "collapsed": true
   },
   "outputs": [],
   "source": [
    "import numpy as np\n",
    "import matplotlib.pyplot as plt\n",
    "import json"
   ]
  },
  {
   "cell_type": "code",
   "execution_count": 35,
   "metadata": {},
   "outputs": [],
   "source": [
    "with open(r'../data/processed/semantic_fluency.json', encoding='utf-8') as json_file:\n",
    "    data = json.load(json_file)"
   ]
  },
  {
   "cell_type": "code",
   "execution_count": 2,
   "metadata": {
    "collapsed": true
   },
   "outputs": [],
   "source": [
    "def euclideanDistance(a,b):\n",
    "    return np.linalg.norm(a-b)"
   ]
  },
  {
   "cell_type": "code",
   "execution_count": 3,
   "metadata": {
    "collapsed": true
   },
   "outputs": [],
   "source": [
    "def vector(word):\n",
    "    i = vocab.index(word)\n",
    "    return vectors[i]"
   ]
  },
  {
   "cell_type": "code",
   "execution_count": 4,
   "metadata": {
    "collapsed": true
   },
   "outputs": [],
   "source": [
    "def distance(w1,w2,metric):\n",
    "    v1 = vector(w1)\n",
    "    v2 = vector(w2)\n",
    "    return metric(v1,v2)"
   ]
  },
  {
   "cell_type": "code",
   "execution_count": 5,
   "metadata": {},
   "outputs": [],
   "source": [
    "vocab = []\n",
    "vectors = []\n",
    "with open(r'..\\models\\SBW-vectors-300-min5.txt', encoding='utf-8') as file:\n",
    "    for line in file:\n",
    "        line = line.rstrip()\n",
    "        line = line.split(' ')\n",
    "        if len(line) == 301:\n",
    "            vocab.append(line[0])\n",
    "            vectors.append(line[1:])\n",
    "vectors = np.array(vectors,dtype=np.float)"
   ]
  },
  {
   "cell_type": "code",
   "execution_count": 49,
   "metadata": {},
   "outputs": [
    {
     "data": {
      "image/png": "[encoded data removed]",
      "text/plain": [
       "<Figure size 432x288 with 1 Axes>"
      ]
     },
     "metadata": {
      "needs_background": "light"
     },
     "output_type": "display_data"
    }
   ],
   "source": [
    "words = data['FS_comidas']['383']['words']\n",
    "words_in_vocab = [word for word in words if word in vocab]\n",
    "distances = []\n",
    "for i in range(1,len(words_in_vocab)):\n",
    "    try:\n",
    "        d = distance(words_in_vocab[i-1], words_in_vocab[i], euclideanDistance)\n",
    "        distances.append(d)\n",
    "    except:\n",
    "        pass\n",
    "p = np.percentile(distances,75)\n",
    "plt.barh(words_in_vocab[1:],distances)\n",
    "plt.title('Fluidez semántica partiendo con la palabra '+words_in_vocab[0])\n",
    "plt.xlabel('Distancia Euclideana del paso')\n",
    "plt.axvline(p,color='red')\n",
    "plt.tight_layout()\n",
    "plt.savefig('exploration.pdf')\n",
    "plt.show()"
   ]
  },
  {
   "cell_type": "code",
   "execution_count": null,
   "metadata": {},
   "outputs": [],
   "source": []
  }
 ],
 "metadata": {
  "kernelspec": {
   "display_name": "Python 3",
   "language": "python",
   "name": "python3"
  },
  "language_info": {
   "codemirror_mode": {
    "name": "ipython",
    "version": 3
   },
   "file_extension": ".py",
   "mimetype": "text/x-python",
   "name": "python",
   "nbconvert_exporter": "python",
   "pygments_lexer": "ipython3",
   "version": "3.6.7"
  }
 },
 "nbformat": 4,
 "nbformat_minor": 2
}
